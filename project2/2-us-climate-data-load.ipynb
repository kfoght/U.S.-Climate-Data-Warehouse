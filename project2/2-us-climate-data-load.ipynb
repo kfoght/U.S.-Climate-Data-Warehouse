{
  "cells": [
    {
      "cell_type": "markdown",
      "source": [
        "## Create the raw layer for the US Climate warehouse\n",
        "\n",
        "### Load data files into BQ tables\n",
        "\n",
        "#### Create BQ dataset for storing the raw data"
      ],
      "metadata": {
        "id": "qhQgzdPiFZYF"
      },
      "id": "qhQgzdPiFZYF"
    },
    {
      "cell_type": "code",
      "id": "C8UqG4ufHwaMihXpDjTicJyJ",
      "metadata": {
        "tags": [],
        "id": "C8UqG4ufHwaMihXpDjTicJyJ",
        "colab": {
          "base_uri": "https://localhost:8080/"
        },
        "outputId": "608d4ed3-b8fe-4d11-9b48-b737f546f68c"
      },
      "source": [
        "from google.cloud import bigquery\n",
        "\n",
        "project_id = \"kiaraerica\"\n",
        "dataset = \"us_climate_raw\"\n",
        "region = \"us-central1\"\n",
        "\n",
        "bq_client = bigquery.Client()\n",
        "\n",
        "dataset_id = bigquery.Dataset(f\"{project_id}.{dataset}\")\n",
        "dataset_id.location = region\n",
        "resp = bq_client.create_dataset(dataset_id, exists_ok=True)\n",
        "print(\"Created dataset {}.{}\".format(bq_client.project, resp.dataset_id))"
      ],
      "execution_count": null,
      "outputs": [
        {
          "output_type": "stream",
          "name": "stdout",
          "text": [
            "Created dataset kiaraerica.us_climate_raw\n"
          ]
        }
      ]
    },
    {
      "cell_type": "markdown",
      "source": [
        "#### Common functions"
      ],
      "metadata": {
        "id": "B90S-NfNL95J"
      },
      "id": "B90S-NfNL95J"
    },
    {
      "cell_type": "code",
      "source": [
        "from google.cloud import bigquery\n",
        "\n",
        "project_id = \"kiaraerica\"\n",
        "bucket = \"us_climate\"\n",
        "parent_folder = \"initial-loads\"\n",
        "region = \"us-central1\"\n",
        "dataset = \"us_climate_raw\"\n",
        "\n",
        "bq_client = bigquery.Client()\n",
        "\n",
        "def create_load_table_from_csv(folder, file_name, table, schema, skip_leading_rows, delimiter=\",\", quote_character=\"\\\"\"):\n",
        "\n",
        "  uri = f\"gs://{bucket}/{parent_folder}/{folder}/{file_name}\"\n",
        "  table_id = f\"{project_id}.{dataset}.{table}\"\n",
        "\n",
        "  table = bigquery.Table(table_id, schema=schema)\n",
        "  table = bq_client.create_table(table, exists_ok=True)\n",
        "  print(\"Created table {}\".format(table.table_id))\n",
        "\n",
        "  # remove the data_source and load_time fields before loading the data,\n",
        "  # neither one is present in the csv\n",
        "  del schema[-1]\n",
        "  del schema[-1]\n",
        "  print(schema)\n",
        "\n",
        "  job_config = bigquery.LoadJobConfig(\n",
        "        schema=schema,\n",
        "        skip_leading_rows=skip_leading_rows,\n",
        "        source_format=bigquery.SourceFormat.CSV,\n",
        "        write_disposition=bigquery.WriteDisposition.WRITE_APPEND,\n",
        "        field_delimiter=delimiter,\n",
        "        quote_character=quote_character,\n",
        "        allow_jagged_rows=True,\n",
        "        ignore_unknown_values=True\n",
        "      )\n",
        "\n",
        "  load_job = bq_client.load_table_from_uri(uri, table_id, job_config=job_config)\n",
        "  load_job.result()\n",
        "\n",
        "  destination_table = bq_client.get_table(table_id)\n",
        "  print(\"Loaded {} rows.\".format(destination_table.num_rows))\n",
        "\n",
        "\n",
        "def create_load_table_from_json(folder, file_name, table, schema):\n",
        "\n",
        "  table_id = f\"{project_id}.{dataset}.{table}\"\n",
        "\n",
        "  table = bigquery.Table(table_id, schema=schema)\n",
        "  table = bq_client.create_table(table, exists_ok=True)\n",
        "  print(\"Created table {}\".format(table.table_id))\n",
        "\n",
        "  # remove the data_source and load_time fields before loading the data,\n",
        "  # neither one is present in the json\n",
        "  del schema[-1]\n",
        "  del schema[-1]\n",
        "\n",
        "  #print(schema)\n",
        "\n",
        "  job_config = bigquery.LoadJobConfig(schema=schema,\n",
        "      source_format=bigquery.SourceFormat.NEWLINE_DELIMITED_JSON,\n",
        "      write_disposition = \"WRITE_EMPTY\"\n",
        "  )\n",
        "\n",
        "  uri = f\"gs://{bucket}/{parent_folder}/{folder}/{file_name}\"\n",
        "\n",
        "  load_job = bq_client.load_table_from_uri(\n",
        "      uri,\n",
        "      table_id,\n",
        "      location=region,\n",
        "      job_config=job_config,\n",
        "  )\n",
        "\n",
        "  load_job.result()\n",
        "\n",
        "  destination_table = bq_client.get_table(table_id)\n",
        "  print(\"Loaded {} rows.\".format(destination_table.num_rows))"
      ],
      "metadata": {
        "id": "BZYSLophEwqY"
      },
      "id": "BZYSLophEwqY",
      "execution_count": 1,
      "outputs": []
    },
    {
      "cell_type": "markdown",
      "source": [
        "#### Create and load `state_average_temperature`"
      ],
      "metadata": {
        "id": "s-4g03YQFysF"
      },
      "id": "s-4g03YQFysF"
    },
    {
      "cell_type": "code",
      "source": [
        "folder = \"state_temperatures\"\n",
        "file_name = \"average_monthly_temperature_by_state_1950-2022.csv\"\n",
        "table = \"state_average_temperature\"\n",
        "delimiter = \",\"\n",
        "skip_leading_rows = 1\n",
        "\n",
        "schema = [\n",
        "  bigquery.SchemaField(\"month\", \"INTEGER\", mode=\"REQUIRED\"),\n",
        "  bigquery.SchemaField(\"year\", \"INTEGER\", mode=\"REQUIRED\"),\n",
        "  bigquery.SchemaField(\"state\", \"STRING\", mode=\"REQUIRED\"),\n",
        "  bigquery.SchemaField(\"average_temp\", \"FLOAT\", mode=\"REQUIRED\"),\n",
        "  bigquery.SchemaField(\"monthly_mean_from_1901_to_2000\", \"FLOAT\", mode=\"REQUIRED\"),\n",
        "  bigquery.SchemaField(\"centroid_lon\", \"FLOAT\", mode=\"NULLABLE\"),\n",
        "  bigquery.SchemaField(\"centroid_lat\", \"FLOAT\", mode=\"NULLABLE\"),\n",
        "  bigquery.SchemaField(\"_data_source\", \"STRING\", mode=\"REQUIRED\", default_value_expression=\"'kaggle'\"),\n",
        "  bigquery.SchemaField(\"_load_time\", \"TIMESTAMP\", mode=\"REQUIRED\", default_value_expression=\"CURRENT_TIMESTAMP\"),\n",
        "]\n",
        "\n",
        "create_load_table_from_csv(folder, file_name, table, schema, skip_leading_rows, delimiter)"
      ],
      "metadata": {
        "id": "9C50heAVL9Jg",
        "colab": {
          "base_uri": "https://localhost:8080/"
        },
        "outputId": "68c74850-4da4-47e0-ac2f-a1a829f1b859"
      },
      "id": "9C50heAVL9Jg",
      "execution_count": null,
      "outputs": [
        {
          "output_type": "stream",
          "name": "stdout",
          "text": [
            "Created table state_average_temperature\n",
            "[SchemaField('month', 'INTEGER', 'REQUIRED', None, None, (), None), SchemaField('year', 'INTEGER', 'REQUIRED', None, None, (), None), SchemaField('state', 'STRING', 'REQUIRED', None, None, (), None), SchemaField('average_temp', 'FLOAT', 'REQUIRED', None, None, (), None), SchemaField('monthly_mean_from_1901_to_2000', 'FLOAT', 'REQUIRED', None, None, (), None), SchemaField('centroid_lon', 'FLOAT', 'NULLABLE', None, None, (), None), SchemaField('centroid_lat', 'FLOAT', 'NULLABLE', None, None, (), None)]\n",
            "Loaded 41856 rows.\n"
          ]
        }
      ]
    },
    {
      "cell_type": "markdown",
      "source": [
        "#### Create and load `state_disasters`"
      ],
      "metadata": {
        "id": "RfUxvY42XX2j"
      },
      "id": "RfUxvY42XX2j"
    },
    {
      "cell_type": "code",
      "source": [
        "folder = \"state_disasters\"\n",
        "file_name = \"*.csv\"\n",
        "table = \"state_disasters\"\n",
        "delimiter = \",\"\n",
        "skip_leading_rows = 3\n",
        "\n",
        "schema = [\n",
        "  bigquery.SchemaField(\"state\", \"STRING\", mode=\"REQUIRED\"),\n",
        "  bigquery.SchemaField(\"year\", \"INTEGER\", mode=\"REQUIRED\"),\n",
        "  bigquery.SchemaField(\"drought_count\", \"INTEGER\", mode=\"REQUIRED\"),\n",
        "  bigquery.SchemaField(\"drought_cost_range\", \"STRING\", mode=\"REQUIRED\"),\n",
        "  bigquery.SchemaField(\"flooding_count\", \"INTEGER\", mode=\"REQUIRED\"),\n",
        "  bigquery.SchemaField(\"flooding_cost_range\", \"STRING\", mode=\"REQUIRED\"),\n",
        "  bigquery.SchemaField(\"freeze_count\", \"INTEGER\", mode=\"REQUIRED\"),\n",
        "  bigquery.SchemaField(\"freeze_cost_range\", \"STRING\", mode=\"REQUIRED\"),\n",
        "  bigquery.SchemaField(\"severe_storm_count\", \"INTEGER\", mode=\"REQUIRED\"),\n",
        "  bigquery.SchemaField(\"severe_storm_cost_range\", \"STRING\", mode=\"REQUIRED\"),\n",
        "  bigquery.SchemaField(\"tropical_cyclone_count\", \"INTEGER\", mode=\"REQUIRED\"),\n",
        "  bigquery.SchemaField(\"tropical_cyclone_cost_range\", \"STRING\", mode=\"REQUIRED\"),\n",
        "  bigquery.SchemaField(\"wildfire_count\", \"INTEGER\", mode=\"REQUIRED\"),\n",
        "  bigquery.SchemaField(\"wildfire_cost_range\", \"STRING\", mode=\"REQUIRED\"),\n",
        "  bigquery.SchemaField(\"winter_storm_count\", \"INTEGER\", mode=\"REQUIRED\"),\n",
        "  bigquery.SchemaField(\"winter_strom_cost_range\", \"STRING\", mode=\"REQUIRED\"),\n",
        "  bigquery.SchemaField(\"all_disasters_count\", \"INTEGER\", mode=\"REQUIRED\"),\n",
        "  bigquery.SchemaField(\"all_disasters_cost_range\", \"STRING\", mode=\"REQUIRED\"),\n",
        "  bigquery.SchemaField(\"_data_source\", \"STRING\", mode=\"REQUIRED\", default_value_expression=\"'noaa'\"),\n",
        "  bigquery.SchemaField(\"_load_time\", \"TIMESTAMP\", mode=\"REQUIRED\", default_value_expression=\"CURRENT_TIMESTAMP\"),\n",
        "]\n",
        "\n",
        "create_load_table_from_csv(folder, file_name, table, schema, skip_leading_rows, delimiter)"
      ],
      "metadata": {
        "id": "eTm01Ah3aAK_",
        "colab": {
          "base_uri": "https://localhost:8080/"
        },
        "outputId": "0e8f5fa4-099c-4509-94ae-83c24b52bfb2"
      },
      "id": "eTm01Ah3aAK_",
      "execution_count": null,
      "outputs": [
        {
          "output_type": "stream",
          "name": "stdout",
          "text": [
            "Created table state_disasters\n",
            "[SchemaField('state', 'STRING', 'REQUIRED', None, None, (), None), SchemaField('year', 'INTEGER', 'REQUIRED', None, None, (), None), SchemaField('drought_count', 'INTEGER', 'REQUIRED', None, None, (), None), SchemaField('drought_cost_range', 'STRING', 'REQUIRED', None, None, (), None), SchemaField('flooding_count', 'INTEGER', 'REQUIRED', None, None, (), None), SchemaField('flooding_cost_range', 'STRING', 'REQUIRED', None, None, (), None), SchemaField('freeze_count', 'INTEGER', 'REQUIRED', None, None, (), None), SchemaField('freeze_cost_range', 'STRING', 'REQUIRED', None, None, (), None), SchemaField('severe_storm_count', 'INTEGER', 'REQUIRED', None, None, (), None), SchemaField('severe_storm_cost_range', 'STRING', 'REQUIRED', None, None, (), None), SchemaField('tropical_cyclone_count', 'INTEGER', 'REQUIRED', None, None, (), None), SchemaField('tropical_cyclone_cost_range', 'STRING', 'REQUIRED', None, None, (), None), SchemaField('wildfire_count', 'INTEGER', 'REQUIRED', None, None, (), None), SchemaField('wildfire_cost_range', 'STRING', 'REQUIRED', None, None, (), None), SchemaField('winter_storm_count', 'INTEGER', 'REQUIRED', None, None, (), None), SchemaField('winter_strom_cost_range', 'STRING', 'REQUIRED', None, None, (), None), SchemaField('all_disasters_count', 'INTEGER', 'REQUIRED', None, None, (), None), SchemaField('all_disasters_cost_range', 'STRING', 'REQUIRED', None, None, (), None)]\n",
            "Loaded 2250 rows.\n"
          ]
        }
      ]
    },
    {
      "cell_type": "markdown",
      "source": [
        "#### Create and load `facilities_ghg_emissions` and `state_ghg_emissions`"
      ],
      "metadata": {
        "id": "ejob90FKEvBZ"
      },
      "id": "ejob90FKEvBZ"
    },
    {
      "cell_type": "code",
      "source": [
        "folder = \"epa_ghg_emissions\"\n",
        "file_name = \"facilities_ghg.csv\"\n",
        "table = \"facility_ghg_emissions\"\n",
        "delimiter = \",\"\n",
        "skip_leading_rows = 7\n",
        "\n",
        "schema = [\n",
        "  bigquery.SchemaField(\"facility_id\", \"INTEGER\", mode=\"REQUIRED\"),\n",
        "  bigquery.SchemaField(\"frs_id\", \"INTEGER\", mode=\"NULLABLE\"),\n",
        "  bigquery.SchemaField(\"facility_name\", \"STRING\", mode=\"REQUIRED\"),\n",
        "  bigquery.SchemaField(\"city\", \"STRING\", mode=\"REQUIRED\"),\n",
        "  bigquery.SchemaField(\"state\", \"STRING\", mode=\"REQUIRED\"),\n",
        "  bigquery.SchemaField(\"naics_code\", \"INTEGER\", mode=\"NULLABLE\"),\n",
        "  bigquery.SchemaField(\"year\", \"INTEGER\", mode=\"REQUIRED\"),\n",
        "  bigquery.SchemaField(\"industry_type\", \"STRING\", mode=\"REQUIRED\"),\n",
        "  bigquery.SchemaField(\"industry_sector\", \"STRING\", mode=\"REQUIRED\"),\n",
        "  bigquery.SchemaField(\"unit_name\", \"STRING\", mode=\"NULLABLE\"),\n",
        "  bigquery.SchemaField(\"unit_type\", \"STRING\", mode=\"NULLABLE\"),\n",
        "  bigquery.SchemaField(\"unit_reporting_method\", \"STRING\", mode=\"NULLABLE\"),\n",
        "  bigquery.SchemaField(\"max_rated_heat_input_capacity\", \"FLOAT\", mode=\"NULLABLE\"),\n",
        "  bigquery.SchemaField(\"carbon_dioxide_emissions\", \"FLOAT\", mode=\"NULLABLE\"),\n",
        "  bigquery.SchemaField(\"methane_emissions\", \"FLOAT\", mode=\"NULLABLE\"),\n",
        "  bigquery.SchemaField(\"nitrous_oxide_emissions\", \"FLOAT\", mode=\"NULLABLE\"),\n",
        "  bigquery.SchemaField(\"biogenic_co2_emissions\", \"FLOAT\", mode=\"NULLABLE\"),\n",
        "  bigquery.SchemaField(\"_data_source\", \"STRING\", mode=\"REQUIRED\", default_value_expression=\"'usepa'\"),\n",
        "  bigquery.SchemaField(\"_load_time\", \"TIMESTAMP\", mode=\"REQUIRED\", default_value_expression=\"CURRENT_TIMESTAMP\"),\n",
        "]\n",
        "\n",
        "create_load_table_from_csv(folder, file_name, table, schema, skip_leading_rows, delimiter)"
      ],
      "metadata": {
        "colab": {
          "base_uri": "https://localhost:8080/"
        },
        "id": "H-HoEsdKRMI5",
        "outputId": "e04c9865-7e0c-4f1a-a26d-233e89572546"
      },
      "id": "H-HoEsdKRMI5",
      "execution_count": null,
      "outputs": [
        {
          "output_type": "stream",
          "name": "stdout",
          "text": [
            "Created table facility_ghg_emissions\n",
            "[SchemaField('facility_id', 'INTEGER', 'REQUIRED', None, None, (), None), SchemaField('frs_id', 'INTEGER', 'NULLABLE', None, None, (), None), SchemaField('facility_name', 'STRING', 'REQUIRED', None, None, (), None), SchemaField('city', 'STRING', 'REQUIRED', None, None, (), None), SchemaField('state', 'STRING', 'REQUIRED', None, None, (), None), SchemaField('naics_code', 'INTEGER', 'NULLABLE', None, None, (), None), SchemaField('year', 'INTEGER', 'REQUIRED', None, None, (), None), SchemaField('industry_type', 'STRING', 'REQUIRED', None, None, (), None), SchemaField('industry_sector', 'STRING', 'REQUIRED', None, None, (), None), SchemaField('unit_name', 'STRING', 'NULLABLE', None, None, (), None), SchemaField('unit_type', 'STRING', 'NULLABLE', None, None, (), None), SchemaField('unit_reporting_method', 'STRING', 'NULLABLE', None, None, (), None), SchemaField('max_rated_heat_input_capacity', 'FLOAT', 'NULLABLE', None, None, (), None), SchemaField('carbon_dioxide_emissions', 'FLOAT', 'NULLABLE', None, None, (), None), SchemaField('methane_emissions', 'FLOAT', 'NULLABLE', None, None, (), None), SchemaField('nitrous_oxide_emissions', 'FLOAT', 'NULLABLE', None, None, (), None), SchemaField('biogenic_co2_emissions', 'FLOAT', 'NULLABLE', None, None, (), None)]\n",
            "Loaded 268778 rows.\n"
          ]
        }
      ]
    },
    {
      "cell_type": "code",
      "source": [
        "folder = \"epa_ghg_emissions\"\n",
        "file_name = \"state_ghg.csv\"\n",
        "table = \"state_ghg_emissions\"\n",
        "delimiter = \",\"\n",
        "skip_leading_rows = 1\n",
        "\n",
        "schema = [\n",
        "  bigquery.SchemaField(\"econ_sector\", \"STRING\", mode=\"REQUIRED\"),\n",
        "  bigquery.SchemaField(\"econ_subsector\", \"STRING\", mode=\"NULLABLE\"),\n",
        "  bigquery.SchemaField(\"sector\", \"STRING\", mode=\"REQUIRED\"),\n",
        "  bigquery.SchemaField(\"subsector\", \"STRING\", mode=\"REQUIRED\"),\n",
        "  bigquery.SchemaField(\"category\", \"STRING\", mode=\"NULLABLE\"),\n",
        "  bigquery.SchemaField(\"sub_category_1\", \"STRING\", mode=\"NULLABLE\"),\n",
        "  bigquery.SchemaField(\"sub_category_2\", \"STRING\", mode=\"NULLABLE\"),\n",
        "  bigquery.SchemaField(\"sub_category_3\", \"STRING\", mode=\"NULLABLE\"),\n",
        "  bigquery.SchemaField(\"sub_category_4\", \"STRING\", mode=\"NULLABLE\"),\n",
        "  bigquery.SchemaField(\"sub_category_5\", \"STRING\", mode=\"NULLABLE\"),\n",
        "  bigquery.SchemaField(\"carbon_pool\", \"STRING\", mode=\"NULLABLE\"),\n",
        "  bigquery.SchemaField(\"fuel1\", \"STRING\", mode=\"NULLABLE\"),\n",
        "  bigquery.SchemaField(\"fuel2\", \"STRING\", mode=\"NULLABLE\"),\n",
        "  bigquery.SchemaField(\"geo_ref\", \"STRING\", mode=\"NULLABLE\"),\n",
        "  bigquery.SchemaField(\"units\", \"STRING\", mode=\"NULLABLE\"),\n",
        "  bigquery.SchemaField(\"ghg\", \"STRING\", mode=\"NULLABLE\"),\n",
        "  bigquery.SchemaField(\"ghg_category\", \"STRING\", mode=\"NULLABLE\"),\n",
        "  bigquery.SchemaField(\"gwp\", \"FLOAT\", mode=\"NULLABLE\"),\n",
        "  bigquery.SchemaField(\"Y1990\", \"FLOAT\", mode=\"NULLABLE\"),\n",
        "  bigquery.SchemaField(\"Y1991\", \"FLOAT\", mode=\"NULLABLE\"),\n",
        "  bigquery.SchemaField(\"Y1992\", \"FLOAT\", mode=\"NULLABLE\"),\n",
        "  bigquery.SchemaField(\"Y1993\", \"FLOAT\", mode=\"NULLABLE\"),\n",
        "  bigquery.SchemaField(\"Y1994\", \"FLOAT\", mode=\"NULLABLE\"),\n",
        "  bigquery.SchemaField(\"Y1995\", \"FLOAT\", mode=\"NULLABLE\"),\n",
        "  bigquery.SchemaField(\"Y1996\", \"FLOAT\", mode=\"NULLABLE\"),\n",
        "  bigquery.SchemaField(\"Y1997\", \"FLOAT\", mode=\"NULLABLE\"),\n",
        "  bigquery.SchemaField(\"Y1998\", \"FLOAT\", mode=\"NULLABLE\"),\n",
        "  bigquery.SchemaField(\"Y1999\", \"FLOAT\", mode=\"NULLABLE\"),\n",
        "  bigquery.SchemaField(\"Y2000\", \"FLOAT\", mode=\"NULLABLE\"),\n",
        "  bigquery.SchemaField(\"Y2001\", \"FLOAT\", mode=\"NULLABLE\"),\n",
        "  bigquery.SchemaField(\"Y2002\", \"FLOAT\", mode=\"NULLABLE\"),\n",
        "  bigquery.SchemaField(\"Y2003\", \"FLOAT\", mode=\"NULLABLE\"),\n",
        "  bigquery.SchemaField(\"Y2004\", \"FLOAT\", mode=\"NULLABLE\"),\n",
        "  bigquery.SchemaField(\"Y2005\", \"FLOAT\", mode=\"NULLABLE\"),\n",
        "  bigquery.SchemaField(\"Y2006\", \"FLOAT\", mode=\"NULLABLE\"),\n",
        "  bigquery.SchemaField(\"Y2007\", \"FLOAT\", mode=\"NULLABLE\"),\n",
        "  bigquery.SchemaField(\"Y2008\", \"FLOAT\", mode=\"NULLABLE\"),\n",
        "  bigquery.SchemaField(\"Y2009\", \"FLOAT\", mode=\"NULLABLE\"),\n",
        "  bigquery.SchemaField(\"Y2010\", \"FLOAT\", mode=\"NULLABLE\"),\n",
        "  bigquery.SchemaField(\"Y2011\", \"FLOAT\", mode=\"NULLABLE\"),\n",
        "  bigquery.SchemaField(\"Y2012\", \"FLOAT\", mode=\"NULLABLE\"),\n",
        "  bigquery.SchemaField(\"Y2013\", \"FLOAT\", mode=\"NULLABLE\"),\n",
        "  bigquery.SchemaField(\"Y2014\", \"FLOAT\", mode=\"NULLABLE\"),\n",
        "  bigquery.SchemaField(\"Y2015\", \"FLOAT\", mode=\"NULLABLE\"),\n",
        "  bigquery.SchemaField(\"Y2016\", \"FLOAT\", mode=\"NULLABLE\"),\n",
        "  bigquery.SchemaField(\"Y2017\", \"FLOAT\", mode=\"NULLABLE\"),\n",
        "  bigquery.SchemaField(\"Y2018\", \"FLOAT\", mode=\"NULLABLE\"),\n",
        "  bigquery.SchemaField(\"Y2019\", \"FLOAT\", mode=\"NULLABLE\"),\n",
        "  bigquery.SchemaField(\"Y2020\", \"FLOAT\", mode=\"NULLABLE\"),\n",
        "  bigquery.SchemaField(\"Y2021\", \"FLOAT\", mode=\"NULLABLE\"),\n",
        "  bigquery.SchemaField(\"Y2022\", \"FLOAT\", mode=\"NULLABLE\"),\n",
        "  bigquery.SchemaField(\"_data_source\", \"STRING\", mode=\"REQUIRED\", default_value_expression=\"'usepa'\"),\n",
        "  bigquery.SchemaField(\"_load_time\", \"TIMESTAMP\", mode=\"REQUIRED\", default_value_expression=\"CURRENT_TIMESTAMP\"),\n",
        "]\n",
        "\n",
        "create_load_table_from_csv(folder, file_name, table, schema, skip_leading_rows, delimiter)"
      ],
      "metadata": {
        "colab": {
          "base_uri": "https://localhost:8080/"
        },
        "id": "3u-pi3Sk_LQR",
        "outputId": "62982614-762d-4743-c9f3-4860aa42a33d"
      },
      "id": "3u-pi3Sk_LQR",
      "execution_count": 3,
      "outputs": [
        {
          "output_type": "stream",
          "name": "stdout",
          "text": [
            "Created table state_ghg_emissions\n",
            "[SchemaField('econ_sector', 'STRING', 'REQUIRED', None, None, (), None), SchemaField('econ_subsector', 'STRING', 'NULLABLE', None, None, (), None), SchemaField('sector', 'STRING', 'REQUIRED', None, None, (), None), SchemaField('subsector', 'STRING', 'REQUIRED', None, None, (), None), SchemaField('category', 'STRING', 'NULLABLE', None, None, (), None), SchemaField('sub_category_1', 'STRING', 'NULLABLE', None, None, (), None), SchemaField('sub_category_2', 'STRING', 'NULLABLE', None, None, (), None), SchemaField('sub_category_3', 'STRING', 'NULLABLE', None, None, (), None), SchemaField('sub_category_4', 'STRING', 'NULLABLE', None, None, (), None), SchemaField('sub_category_5', 'STRING', 'NULLABLE', None, None, (), None), SchemaField('carbon_pool', 'STRING', 'NULLABLE', None, None, (), None), SchemaField('fuel1', 'STRING', 'NULLABLE', None, None, (), None), SchemaField('fuel2', 'STRING', 'NULLABLE', None, None, (), None), SchemaField('geo_ref', 'STRING', 'NULLABLE', None, None, (), None), SchemaField('units', 'STRING', 'NULLABLE', None, None, (), None), SchemaField('ghg', 'STRING', 'NULLABLE', None, None, (), None), SchemaField('ghg_category', 'STRING', 'NULLABLE', None, None, (), None), SchemaField('gwp', 'FLOAT', 'NULLABLE', None, None, (), None), SchemaField('Y1990', 'FLOAT', 'NULLABLE', None, None, (), None), SchemaField('Y1991', 'FLOAT', 'NULLABLE', None, None, (), None), SchemaField('Y1992', 'FLOAT', 'NULLABLE', None, None, (), None), SchemaField('Y1993', 'FLOAT', 'NULLABLE', None, None, (), None), SchemaField('Y1994', 'FLOAT', 'NULLABLE', None, None, (), None), SchemaField('Y1995', 'FLOAT', 'NULLABLE', None, None, (), None), SchemaField('Y1996', 'FLOAT', 'NULLABLE', None, None, (), None), SchemaField('Y1997', 'FLOAT', 'NULLABLE', None, None, (), None), SchemaField('Y1998', 'FLOAT', 'NULLABLE', None, None, (), None), SchemaField('Y1999', 'FLOAT', 'NULLABLE', None, None, (), None), SchemaField('Y2000', 'FLOAT', 'NULLABLE', None, None, (), None), SchemaField('Y2001', 'FLOAT', 'NULLABLE', None, None, (), None), SchemaField('Y2002', 'FLOAT', 'NULLABLE', None, None, (), None), SchemaField('Y2003', 'FLOAT', 'NULLABLE', None, None, (), None), SchemaField('Y2004', 'FLOAT', 'NULLABLE', None, None, (), None), SchemaField('Y2005', 'FLOAT', 'NULLABLE', None, None, (), None), SchemaField('Y2006', 'FLOAT', 'NULLABLE', None, None, (), None), SchemaField('Y2007', 'FLOAT', 'NULLABLE', None, None, (), None), SchemaField('Y2008', 'FLOAT', 'NULLABLE', None, None, (), None), SchemaField('Y2009', 'FLOAT', 'NULLABLE', None, None, (), None), SchemaField('Y2010', 'FLOAT', 'NULLABLE', None, None, (), None), SchemaField('Y2011', 'FLOAT', 'NULLABLE', None, None, (), None), SchemaField('Y2012', 'FLOAT', 'NULLABLE', None, None, (), None), SchemaField('Y2013', 'FLOAT', 'NULLABLE', None, None, (), None), SchemaField('Y2014', 'FLOAT', 'NULLABLE', None, None, (), None), SchemaField('Y2015', 'FLOAT', 'NULLABLE', None, None, (), None), SchemaField('Y2016', 'FLOAT', 'NULLABLE', None, None, (), None), SchemaField('Y2017', 'FLOAT', 'NULLABLE', None, None, (), None), SchemaField('Y2018', 'FLOAT', 'NULLABLE', None, None, (), None), SchemaField('Y2019', 'FLOAT', 'NULLABLE', None, None, (), None), SchemaField('Y2020', 'FLOAT', 'NULLABLE', None, None, (), None), SchemaField('Y2021', 'FLOAT', 'NULLABLE', None, None, (), None), SchemaField('Y2022', 'FLOAT', 'NULLABLE', None, None, (), None)]\n",
            "Loaded 27218 rows.\n"
          ]
        }
      ]
    },
    {
      "cell_type": "markdown",
      "source": [
        "#### Create and load `climate_risk_projections`"
      ],
      "metadata": {
        "id": "IwU0QwWghN5I"
      },
      "id": "IwU0QwWghN5I"
    },
    {
      "cell_type": "code",
      "source": [
        "folder = \"climate_risk_projections\"\n",
        "file_name = \"climate_risk.csv\"\n",
        "table = \"climate_risk_projections\"\n",
        "delimiter = \",\"\n",
        "skip_leading_rows = 1\n",
        "\n",
        "schema = [\n",
        "  bigquery.SchemaField(\"geo_id\", \"INTEGER\", mode=\"REQUIRED\"),\n",
        "  bigquery.SchemaField(\"temp_change\", \"FLOAT\", mode=\"REQUIRED\"),\n",
        "  bigquery.SchemaField(\"precipitation_change\", \"FLOAT\", mode=\"REQUIRED\"),\n",
        "  bigquery.SchemaField(\"extreme_precipitation\", \"FLOAT\", mode=\"REQUIRED\"),\n",
        "  bigquery.SchemaField(\"extreme_cold\", \"FLOAT\", mode=\"REQUIRED\"),\n",
        "  bigquery.SchemaField(\"extreme_heat\", \"FLOAT\", mode=\"REQUIRED\"),\n",
        "  bigquery.SchemaField(\"dry_change\", \"FLOAT\", mode=\"REQUIRED\"),\n",
        "  bigquery.SchemaField(\"impervious_surface\", \"FLOAT\", mode=\"REQUIRED\"),\n",
        "  bigquery.SchemaField(\"housing_density\", \"FLOAT\", mode=\"REQUIRED\"),\n",
        "  bigquery.SchemaField(\"population_estimate\", \"FLOAT\", mode=\"REQUIRED\"),\n",
        "  bigquery.SchemaField(\"low_lying_houses\", \"FLOAT\", mode=\"REQUIRED\"),\n",
        "  bigquery.SchemaField(\"low-lying_roads\", \"FLOAT\", mode=\"REQUIRED\"),\n",
        "  bigquery.SchemaField(\"hazard\", \"FLOAT\", mode=\"REQUIRED\"),\n",
        "  bigquery.SchemaField(\"exposure\", \"FLOAT\", mode=\"REQUIRED\"),\n",
        "  bigquery.SchemaField(\"vulnerability\", \"FLOAT\", mode=\"REQUIRED\"),\n",
        "  bigquery.SchemaField(\"risk\", \"FLOAT\", mode=\"REQUIRED\"),\n",
        "  bigquery.SchemaField(\"risk_percentage\", \"FLOAT\", mode=\"REQUIRED\"),\n",
        "  bigquery.SchemaField(\"_data_source\", \"STRING\", mode=\"REQUIRED\", default_value_expression=\"'nasa'\"),\n",
        "  bigquery.SchemaField(\"_load_time\", \"TIMESTAMP\", mode=\"REQUIRED\", default_value_expression=\"CURRENT_TIMESTAMP\"),\n",
        "]\n",
        "\n",
        "create_load_table_from_csv(folder, file_name, table, schema, skip_leading_rows, delimiter)"
      ],
      "metadata": {
        "colab": {
          "base_uri": "https://localhost:8080/"
        },
        "id": "1mJmpwPAfSuq",
        "outputId": "a6c64278-bceb-4669-9a3f-2eb2f8fe7615"
      },
      "id": "1mJmpwPAfSuq",
      "execution_count": null,
      "outputs": [
        {
          "output_type": "stream",
          "name": "stdout",
          "text": [
            "Created table climate_risk_projections\n",
            "[SchemaField('geo_id', 'INTEGER', 'REQUIRED', None, None, (), None), SchemaField('temp_change', 'FLOAT', 'REQUIRED', None, None, (), None), SchemaField('precipitation_change', 'FLOAT', 'REQUIRED', None, None, (), None), SchemaField('extreme_precipitation', 'FLOAT', 'REQUIRED', None, None, (), None), SchemaField('extreme_cold', 'FLOAT', 'REQUIRED', None, None, (), None), SchemaField('extreme_heat', 'FLOAT', 'REQUIRED', None, None, (), None), SchemaField('dry_change', 'FLOAT', 'REQUIRED', None, None, (), None), SchemaField('impervious_surface', 'FLOAT', 'REQUIRED', None, None, (), None), SchemaField('housing_density', 'FLOAT', 'REQUIRED', None, None, (), None), SchemaField('population_estimate', 'FLOAT', 'REQUIRED', None, None, (), None), SchemaField('low_lying_houses', 'FLOAT', 'REQUIRED', None, None, (), None), SchemaField('low-lying_roads', 'FLOAT', 'REQUIRED', None, None, (), None), SchemaField('hazard', 'FLOAT', 'REQUIRED', None, None, (), None), SchemaField('exposure', 'FLOAT', 'REQUIRED', None, None, (), None), SchemaField('vulnerability', 'FLOAT', 'REQUIRED', None, None, (), None), SchemaField('risk', 'FLOAT', 'REQUIRED', None, None, (), None), SchemaField('risk_percentage', 'FLOAT', 'REQUIRED', None, None, (), None)]\n",
            "Loaded 3108 rows.\n"
          ]
        }
      ]
    },
    {
      "cell_type": "markdown",
      "source": [
        "#### Create and load `state_climate_policies`"
      ],
      "metadata": {
        "id": "42i0Ixn-kVKY"
      },
      "id": "42i0Ixn-kVKY"
    },
    {
      "cell_type": "code",
      "source": [
        "folder = \"state_climate_policies/llm_text\"\n",
        "file_name = \"*.jsonl\"\n",
        "table = \"state_climate_policies\"\n",
        "\n",
        "schema = [\n",
        "  bigquery.SchemaField(\"policy\", \"STRING\", mode=\"REQUIRED\"),\n",
        "  bigquery.SchemaField(\"policy_area\", \"STRING\", mode=\"REQUIRED\"),\n",
        "  bigquery.SchemaField(\"category\", \"STRING\", mode=\"REQUIRED\"),\n",
        "  bigquery.SchemaField(\"status\", \"STRING\", mode=\"REQUIRED\"),\n",
        "  bigquery.SchemaField(\"year_enacted\", \"STRING\", mode=\"NULLABLE\"),\n",
        "  bigquery.SchemaField(\"state\", \"STRING\", mode=\"REQUIRED\"),\n",
        "  bigquery.SchemaField(\"_data_source\", \"STRING\", mode=\"REQUIRED\", default_value_expression=\"'climatexchange'\"),\n",
        "  bigquery.SchemaField(\"_load_time\", \"TIMESTAMP\", mode=\"REQUIRED\", default_value_expression=\"CURRENT_TIMESTAMP\"),\n",
        "]\n",
        "\n",
        "create_load_table_from_json(folder, file_name, table, schema)"
      ],
      "metadata": {
        "colab": {
          "base_uri": "https://localhost:8080/"
        },
        "id": "Q_OCCQ2xkWOz",
        "outputId": "59c1afc7-756c-4913-b232-981cff79da58"
      },
      "id": "Q_OCCQ2xkWOz",
      "execution_count": null,
      "outputs": [
        {
          "output_type": "stream",
          "name": "stdout",
          "text": [
            "Created table state_climate_policies\n",
            "Loaded 3097 rows.\n"
          ]
        }
      ]
    },
    {
      "cell_type": "markdown",
      "source": [
        "#### Create and load `carbon_capture_facilities`"
      ],
      "metadata": {
        "id": "JRpLr7US9a4h"
      },
      "id": "JRpLr7US9a4h"
    },
    {
      "cell_type": "code",
      "source": [
        "folder = \"ccus_facility/llm_text\"\n",
        "file_name = \"*.jsonl\"\n",
        "table = \"carbon_capture_facilities\"\n",
        "\n",
        "schema = [\n",
        "  bigquery.SchemaField(\"id\", \"INTEGER\", mode=\"REQUIRED\"),\n",
        "  bigquery.SchemaField(\"facility\", \"STRING\", mode=\"REQUIRED\"),\n",
        "  bigquery.SchemaField(\"organization\", \"STRING\", mode=\"NULLABLE\"),\n",
        "  bigquery.SchemaField(\"city\", \"STRING\", mode=\"REQUIRED\"),\n",
        "  bigquery.SchemaField(\"state\", \"STRING\", mode=\"REQUIRED\"),\n",
        "  bigquery.SchemaField(\"category\", \"STRING\", mode=\"NULLABLE\"),\n",
        "  bigquery.SchemaField(\"status\", \"STRING\", mode=\"NULLABLE\"),\n",
        "  bigquery.SchemaField(\"industry\", \"STRING\", mode=\"NULLABLE\"),\n",
        "  bigquery.SchemaField(\"_data_source\", \"STRING\", mode=\"REQUIRED\", default_value_expression=\"'bbi-international'\"),\n",
        "  bigquery.SchemaField(\"_load_time\", \"TIMESTAMP\", mode=\"REQUIRED\", default_value_expression=\"CURRENT_TIMESTAMP\"),\n",
        "]\n",
        "\n",
        "create_load_table_from_json(folder, file_name, table, schema)"
      ],
      "metadata": {
        "colab": {
          "base_uri": "https://localhost:8080/"
        },
        "id": "UG6M5VpO9toh",
        "outputId": "8ee87c89-b6aa-4f13-efd0-01f343779c9e"
      },
      "id": "UG6M5VpO9toh",
      "execution_count": null,
      "outputs": [
        {
          "output_type": "stream",
          "name": "stdout",
          "text": [
            "Created table carbon_capture_facilities\n",
            "Loaded 135 rows.\n"
          ]
        }
      ]
    },
    {
      "cell_type": "markdown",
      "source": [
        "#### Create and load `state_electricity_generation_fuel_shares`"
      ],
      "metadata": {
        "id": "e8uq3eXw_CWV"
      },
      "id": "e8uq3eXw_CWV"
    },
    {
      "cell_type": "code",
      "source": [
        "folder = \"state_electricity_generation_fuel_shares\"\n",
        "file_name = \"state_electricity_generation_fuel_shares.csv\"\n",
        "table = \"state_electricity_generation_fuel_shares\"\n",
        "delimiter = \",\"\n",
        "skip_leading_rows = 1\n",
        "\n",
        "schema = [\n",
        "  bigquery.SchemaField(\"state\", \"STRING\", mode=\"REQUIRED\"),\n",
        "  bigquery.SchemaField(\"nuclear\", \"FLOAT\", mode=\"REQUIRED\"),\n",
        "  bigquery.SchemaField(\"coal\", \"FLOAT\", mode=\"REQUIRED\"),\n",
        "  bigquery.SchemaField(\"natural_gas\", \"FLOAT\", mode=\"REQUIRED\"),\n",
        "  bigquery.SchemaField(\"petroleum\", \"FLOAT\", mode=\"REQUIRED\"),\n",
        "  bigquery.SchemaField(\"hydro\", \"FLOAT\", mode=\"REQUIRED\"),\n",
        "  bigquery.SchemaField(\"geothermal\", \"FLOAT\", mode=\"REQUIRED\"),\n",
        "  bigquery.SchemaField(\"solar_power\", \"FLOAT\", mode=\"REQUIRED\"),\n",
        "  bigquery.SchemaField(\"wind\", \"FLOAT\", mode=\"REQUIRED\"),\n",
        "  bigquery.SchemaField(\"biomass_and_others\", \"FLOAT\", mode=\"REQUIRED\"),\n",
        "  bigquery.SchemaField(\"others\", \"FLOAT\", mode=\"NULLABLE\"),\n",
        "  bigquery.SchemaField(\"_data_source\", \"STRING\", mode=\"REQUIRED\", default_value_expression=\"'nei'\"),\n",
        "  bigquery.SchemaField(\"_load_time\", \"TIMESTAMP\", mode=\"REQUIRED\", default_value_expression=\"CURRENT_TIMESTAMP\"),\n",
        "]\n",
        "\n",
        "create_load_table_from_csv(folder, file_name, table, schema, skip_leading_rows, delimiter)"
      ],
      "metadata": {
        "colab": {
          "base_uri": "https://localhost:8080/"
        },
        "id": "-GLJBg3Kxgi3",
        "outputId": "7e935509-7f2f-482a-ec61-472b684f2142"
      },
      "id": "-GLJBg3Kxgi3",
      "execution_count": null,
      "outputs": [
        {
          "output_type": "stream",
          "name": "stdout",
          "text": [
            "Created table state_electricity_generation_fuel_shares\n",
            "[SchemaField('state', 'STRING', 'REQUIRED', None, None, (), None), SchemaField('nuclear', 'FLOAT', 'REQUIRED', None, None, (), None), SchemaField('coal', 'FLOAT', 'REQUIRED', None, None, (), None), SchemaField('natural_gas', 'FLOAT', 'REQUIRED', None, None, (), None), SchemaField('petroleum', 'FLOAT', 'REQUIRED', None, None, (), None), SchemaField('hydro', 'FLOAT', 'REQUIRED', None, None, (), None), SchemaField('geothermal', 'FLOAT', 'REQUIRED', None, None, (), None), SchemaField('solar_power', 'FLOAT', 'REQUIRED', None, None, (), None), SchemaField('wind', 'FLOAT', 'REQUIRED', None, None, (), None), SchemaField('biomass_and_others', 'FLOAT', 'REQUIRED', None, None, (), None), SchemaField('others', 'FLOAT', 'NULLABLE', None, None, (), None)]\n",
            "Loaded 51 rows.\n"
          ]
        }
      ]
    }
  ],
  "metadata": {
    "kernelspec": {
      "display_name": "Python 3",
      "language": "python",
      "name": "python3"
    },
    "language_info": {
      "codemirror_mode": {
        "name": "ipython",
        "version": 3
      },
      "file_extension": ".py",
      "mimetype": "text/x-python",
      "name": "python",
      "nbconvert_exporter": "python",
      "pygments_lexer": "ipython3",
      "version": "3.10.10"
    },
    "colab": {
      "provenance": [],
      "name": "2-us-climate-data-load.ipynb"
    }
  },
  "nbformat": 4,
  "nbformat_minor": 5
}